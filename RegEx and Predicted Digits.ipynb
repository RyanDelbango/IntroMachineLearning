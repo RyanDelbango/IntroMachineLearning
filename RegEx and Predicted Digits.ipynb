{
 "cells": [
  {
   "cell_type": "code",
   "execution_count": 1,
   "metadata": {},
   "outputs": [],
   "source": [
    "import re"
   ]
  },
  {
   "cell_type": "code",
   "execution_count": 2,
   "metadata": {},
   "outputs": [],
   "source": [
    "pattern = (r'[0-9a-f]{2}\\:[0-9a-f]{2}\\:[0-9a-f]{2}\\:[0-9a-f]{2}\\:[0-9a-f]{2}\\:[0-9a-f]{2}')\n",
    "with open(\"dump.txt\", \"r\") as f:\n",
    "    d=f.read()\n",
    "    mac_addresses= re.findall(pattern, d)"
   ]
  },
  {
   "cell_type": "code",
   "execution_count": 3,
   "metadata": {},
   "outputs": [],
   "source": [
    "unique_mac_addresses= set(re.findall(pattern, d))"
   ]
  },
  {
   "cell_type": "code",
   "execution_count": 4,
   "metadata": {},
   "outputs": [
    {
     "data": {
      "text/plain": [
       "{'00:00:74:b7:a5:03',\n",
       " '00:08:e3:ff:ff:20',\n",
       " '00:11:32:2e:c9:10',\n",
       " '00:1a:1e:00:aa:28',\n",
       " '00:1a:1e:01:61:30',\n",
       " '00:20:6b:6e:c3:80',\n",
       " '00:21:b7:a6:7c:38',\n",
       " '00:21:b7:b1:0b:da',\n",
       " '00:21:b7:d6:45:df',\n",
       " '00:21:b7:fd:26:45',\n",
       " '00:24:36:a0:37:8c',\n",
       " '00:25:ab:a3:ee:f7',\n",
       " '00:50:56:91:19:10',\n",
       " '00:50:56:91:52:12',\n",
       " '00:50:56:91:5c:9d',\n",
       " '00:50:56:91:a0:f9',\n",
       " '00:50:56:91:cc:cb',\n",
       " '00:50:56:92:10:13',\n",
       " '00:50:56:92:3e:a8',\n",
       " '00:50:56:ba:00:39',\n",
       " '00:50:56:bd:29:3e',\n",
       " '00:50:56:bd:3e:02',\n",
       " '00:50:56:bd:bb:54',\n",
       " '00:50:56:bd:fb:0d',\n",
       " '00:56:2b:89:38:8e',\n",
       " '00:56:2b:89:3a:b3',\n",
       " '00:56:2b:89:3d:73',\n",
       " '00:56:2b:89:3f:64',\n",
       " '00:56:2b:89:44:d2',\n",
       " '00:56:2b:89:46:c9',\n",
       " '00:9e:1e:15:ec:9c',\n",
       " '00:9e:1e:15:f2:df',\n",
       " '00:9e:1e:15:f3:0f',\n",
       " '00:c0:ee:94:3e:f4',\n",
       " '00:d8:61:61:92:7a',\n",
       " '00:e0:c9:21:d3:95',\n",
       " '00:e0:c9:21:d3:d1',\n",
       " '00:e1:6d:7a:9b:98',\n",
       " '01:00:5e:00:00:fb',\n",
       " '01:00:5e:00:00:fc',\n",
       " '08:2e:5f:1e:9a:f9',\n",
       " '08:2e:5f:2b:6a:2b',\n",
       " '08:2e:5f:2c:da:f6',\n",
       " '08:ec:f5:e4:b0:be',\n",
       " '0c:4d:e9:c1:68:74',\n",
       " '10:60:4b:8c:0a:a6',\n",
       " '10:dd:b1:cc:f3:c0',\n",
       " '14:b3:1f:1f:e5:bb',\n",
       " '18:03:73:31:c1:22',\n",
       " '18:60:24:0e:13:fe',\n",
       " '18:60:24:86:a9:55',\n",
       " '18:60:24:95:d0:ba',\n",
       " '18:60:24:99:a3:83',\n",
       " '18:60:24:9c:8b:0b',\n",
       " '18:60:24:a0:f1:38',\n",
       " '20:4c:03:03:b6:78',\n",
       " '24:be:05:20:16:25',\n",
       " '30:9c:23:a9:9b:9a',\n",
       " '30:e1:71:88:34:a6',\n",
       " '33:33:00:00:00:01',\n",
       " '33:33:00:00:00:02',\n",
       " '33:33:00:00:00:0c',\n",
       " '33:33:00:00:00:fb',\n",
       " '33:33:00:01:00:02',\n",
       " '38:c9:86:20:90:db',\n",
       " '3c:07:54:57:fc:c2',\n",
       " '3c:52:82:54:bd:d0',\n",
       " '3c:52:82:5e:29:0d',\n",
       " '3c:52:82:6d:86:55',\n",
       " '3c:52:82:74:9e:58',\n",
       " '3c:52:82:76:eb:2f',\n",
       " '3c:a8:2a:f9:1f:11',\n",
       " '3c:d9:2b:56:f1:2c',\n",
       " '3c:d9:2b:72:53:25',\n",
       " '40:6c:8f:05:84:b1',\n",
       " '40:a8:f0:ad:f7:fe',\n",
       " '40:b0:34:18:0c:6a',\n",
       " '40:b0:34:3b:db:e7',\n",
       " '40:b0:34:3b:de:1b',\n",
       " '40:b0:34:41:f9:e6',\n",
       " '40:b0:34:44:f6:66',\n",
       " '48:0f:cf:50:c0:bb',\n",
       " '48:0f:cf:66:9d:48',\n",
       " '50:65:f3:1c:17:cf',\n",
       " '50:65:f3:38:a4:96',\n",
       " '58:38:79:1f:ad:cd',\n",
       " '5c:5a:c7:c0:87:2b',\n",
       " '5c:5a:c7:c0:99:30',\n",
       " '5c:5a:c7:c1:94:2f',\n",
       " '5c:5a:c7:d8:82:28',\n",
       " '5c:5a:c7:de:93:30',\n",
       " '5c:5a:c7:de:9b:27',\n",
       " '5c:5a:c7:de:9b:37',\n",
       " '64:00:6a:75:97:40',\n",
       " '64:51:06:61:7e:be',\n",
       " '68:3b:78:02:3d:30',\n",
       " '6c:2b:59:e2:b0:a5',\n",
       " '6c:3b:e5:1d:10:4a',\n",
       " '74:46:a0:96:cf:96',\n",
       " '78:7b:8a:c0:b0:ef',\n",
       " '78:bc:1a:05:16:2e',\n",
       " '78:bc:1a:0d:b9:30',\n",
       " '78:bc:1a:2c:7d:ae',\n",
       " '80:e8:2c:05:3d:10',\n",
       " '84:2b:2b:98:42:13',\n",
       " '84:7b:eb:49:78:d7',\n",
       " '84:7b:eb:4e:af:19',\n",
       " '88:51:fb:4a:4e:96',\n",
       " '88:51:fb:57:d2:89',\n",
       " '8c:dc:d4:3f:c0:18',\n",
       " '8c:dc:d4:41:80:74',\n",
       " '98:90:96:c5:8d:3a',\n",
       " '98:e7:f4:fe:e3:13',\n",
       " '9c:7b:ef:ad:70:32',\n",
       " '9c:7b:ef:ad:70:e9',\n",
       " '9c:7b:ef:af:13:0e',\n",
       " '9c:7b:ef:af:61:75',\n",
       " '9c:7b:ef:b0:22:9f',\n",
       " '9c:b6:54:9f:d1:a7',\n",
       " 'a0:42:3f:3b:5d:72',\n",
       " 'a0:48:1c:8b:ac:9c',\n",
       " 'a0:48:1c:94:e5:3c',\n",
       " 'a0:48:1c:94:f0:57',\n",
       " 'a0:48:1c:97:72:bf',\n",
       " 'a0:48:1c:9a:5d:ea',\n",
       " 'a0:8c:fd:ce:d3:57',\n",
       " 'a0:8c:fd:d9:25:65',\n",
       " 'a0:8c:fd:d9:64:dd',\n",
       " 'a0:8c:fd:d9:65:ec',\n",
       " 'a0:8c:fd:d9:67:05',\n",
       " 'a0:8c:fd:db:22:71',\n",
       " 'a0:8c:fd:dc:64:7a',\n",
       " 'a0:8c:fd:de:67:ea',\n",
       " 'a0:8c:fd:de:68:3f',\n",
       " 'a0:8c:fd:e2:a7:64',\n",
       " 'a0:8c:fd:e3:69:15',\n",
       " 'a0:8c:fd:e5:23:1a',\n",
       " 'a0:8c:fd:ea:d2:49',\n",
       " 'a0:d3:c1:9b:df:76',\n",
       " 'a8:60:b6:27:a4:83',\n",
       " 'ac:16:2d:08:79:90',\n",
       " 'ac:16:2d:0b:59:e4',\n",
       " 'ac:87:a3:20:4a:1e',\n",
       " 'ac:87:a3:31:f5:60',\n",
       " 'b4:b5:2f:ca:a5:f8',\n",
       " 'b4:b5:2f:d3:a8:ef',\n",
       " 'b4:b5:2f:da:48:0b',\n",
       " 'b4:b5:2f:dc:61:ec',\n",
       " 'b4:b5:2f:dd:af:52',\n",
       " 'b4:b5:2f:dd:d8:61',\n",
       " 'b4:b5:2f:df:18:6e',\n",
       " 'b8:ca:3a:bc:cf:6f',\n",
       " 'c4:34:6b:58:00:14',\n",
       " 'c8:d3:ff:13:33:e6',\n",
       " 'c8:d3:ff:ba:3b:5f',\n",
       " 'c8:d9:d2:14:b5:f5',\n",
       " 'c8:d9:d2:14:c6:6f',\n",
       " 'c8:d9:d2:24:b3:b1',\n",
       " 'd4:81:d7:fb:a5:18',\n",
       " 'd4:85:64:18:49:3e',\n",
       " 'd8:9e:f3:3d:bd:42',\n",
       " 'dc:4a:3e:6d:6d:69',\n",
       " 'dc:4a:3e:73:76:51',\n",
       " 'dc:4a:3e:75:64:46',\n",
       " 'dc:4a:3e:79:59:87',\n",
       " 'dc:4a:3e:7a:5e:50',\n",
       " 'dc:8c:37:b0:f2:2f',\n",
       " 'dc:8c:37:b1:40:b0',\n",
       " 'e8:39:35:49:62:53',\n",
       " 'e8:39:35:49:a0:73',\n",
       " 'e8:39:35:52:9e:a3',\n",
       " 'ec:b1:d7:2c:ea:3c',\n",
       " 'ec:b1:d7:4b:1b:b6',\n",
       " 'ec:b1:d7:53:25:4a',\n",
       " 'ec:b1:d7:53:2f:b2',\n",
       " 'ec:b1:d7:53:c9:83',\n",
       " 'f0:4d:a2:f9:3e:b8',\n",
       " 'f0:92:1c:de:a4:33',\n",
       " 'f0:92:1c:ea:62:0f',\n",
       " 'f8:b1:56:bc:40:c9',\n",
       " 'fc:3f:db:c0:9e:20',\n",
       " 'fc:4d:d4:37:21:35',\n",
       " 'ff:ff:ff:ff:ff:ff'}"
      ]
     },
     "execution_count": 4,
     "metadata": {},
     "output_type": "execute_result"
    }
   ],
   "source": [
    "unique_mac_addresses"
   ]
  },
  {
   "cell_type": "code",
   "execution_count": 5,
   "metadata": {},
   "outputs": [],
   "source": [
    "import numpy as np\n",
    "from matplotlib import pyplot as plt\n",
    "from sklearn.decomposition import PCA"
   ]
  },
  {
   "cell_type": "code",
   "execution_count": 6,
   "metadata": {},
   "outputs": [],
   "source": [
    "data=np.genfromtxt(\"mnist1000.csv\", delimiter=',', skip_header=1)"
   ]
  },
  {
   "cell_type": "code",
   "execution_count": 9,
   "metadata": {},
   "outputs": [
    {
     "data": {
      "text/plain": [
       "998"
      ]
     },
     "execution_count": 9,
     "metadata": {},
     "output_type": "execute_result"
    }
   ],
   "source": [
    "labels=data[:,0]\n",
    "len(labels)"
   ]
  },
  {
   "cell_type": "code",
   "execution_count": 10,
   "metadata": {},
   "outputs": [],
   "source": [
    "X=data[:,1:]"
   ]
  },
  {
   "cell_type": "code",
   "execution_count": 16,
   "metadata": {},
   "outputs": [
    {
     "data": {
      "text/plain": [
       "array([[0., 0., 0., ..., 0., 0., 0.],\n",
       "       [0., 0., 0., ..., 0., 0., 0.],\n",
       "       [0., 0., 0., ..., 0., 0., 0.],\n",
       "       ...,\n",
       "       [0., 0., 0., ..., 0., 0., 0.],\n",
       "       [0., 0., 0., ..., 0., 0., 0.],\n",
       "       [0., 0., 0., ..., 0., 0., 0.]])"
      ]
     },
     "execution_count": 16,
     "metadata": {},
     "output_type": "execute_result"
    }
   ],
   "source": [
    "X.shape\n",
    "X"
   ]
  },
  {
   "cell_type": "code",
   "execution_count": 12,
   "metadata": {},
   "outputs": [
    {
     "data": {
      "image/png": "[encoded data removed]",
      "text/plain": [
       "<Figure size 72x72 with 1 Axes>"
      ]
     },
     "metadata": {
      "needs_background": "light"
     },
     "output_type": "display_data"
    }
   ],
   "source": [
    "plt.figure(figsize=(1, 1))\n",
    "plt.imshow(X[5].reshape(28,28), cmap=plt.cm.gray_r, interpolation='nearest')\n",
    "plt.show()"
   ]
  },
  {
   "cell_type": "code",
   "execution_count": 13,
   "metadata": {},
   "outputs": [
    {
     "data": {
      "text/plain": [
       "PCA(copy=True, iterated_power='auto', n_components=100, random_state=None,\n",
       "    svd_solver='auto', tol=0.0, whiten=False)"
      ]
     },
     "execution_count": 13,
     "metadata": {},
     "output_type": "execute_result"
    }
   ],
   "source": [
    "pca = PCA(n_components=100)\n",
    "pca.fit(X)"
   ]
  },
  {
   "cell_type": "code",
   "execution_count": 30,
   "metadata": {},
   "outputs": [
    {
     "data": {
      "text/plain": [
       "array([[  202.35365993,   338.69349495,   212.59231584, ...,\n",
       "           95.82443284,    -8.08736274,    56.7315695 ],\n",
       "       [ 1104.41499599,   428.34085951,  -129.88445162, ...,\n",
       "           -5.30848826,   -95.11307599,    76.74379048],\n",
       "       [   10.51079931,  -419.41410513,   121.3242998 , ...,\n",
       "           43.25505886,   225.05068794,    89.13095551],\n",
       "       ...,\n",
       "       [  274.97648219,  -658.01020908,  -296.8137511 , ...,\n",
       "           30.13760096,    61.79874087,    94.1008209 ],\n",
       "       [  -41.4529578 ,   -58.88892493,   167.07023222, ...,\n",
       "          -73.7119373 ,    45.92424023,     6.99326991],\n",
       "       [  770.02237321,   204.97378364, -1077.88728586, ...,\n",
       "          -24.71922238,    45.76301749,   -38.13612368]])"
      ]
     },
     "execution_count": 30,
     "metadata": {},
     "output_type": "execute_result"
    }
   ],
   "source": [
    "Xt = pca.fit_transform(X)\n",
    "Xt"
   ]
  },
  {
   "cell_type": "code",
   "execution_count": 17,
   "metadata": {},
   "outputs": [],
   "source": [
    "from sklearn.model_selection import train_test_split\n",
    "from sklearn.svm import SVC\n",
    "from sklearn.model_selection import GridSearchCV"
   ]
  },
  {
   "cell_type": "code",
   "execution_count": 31,
   "metadata": {},
   "outputs": [],
   "source": [
    "X_train, X_test, y_train, y_test = train_test_split(Xt,labels,test_size=.2, random_state=42)"
   ]
  },
  {
   "cell_type": "code",
   "execution_count": 32,
   "metadata": {},
   "outputs": [],
   "source": [
    "clf=SVC(gamma='scale')\n",
    "param_grid = {\n",
    "    'kernel':['linear', 'rbf', 'poly'],\n",
    "    'C': [1, 50, 100, 1000]\n",
    "}\n",
    "grid_search = GridSearchCV(\n",
    "    clf, param_grid, cv=10, scoring='accuracy')"
   ]
  },
  {
   "cell_type": "code",
   "execution_count": 33,
   "metadata": {},
   "outputs": [
    {
     "name": "stderr",
     "output_type": "stream",
     "text": [
      "C:\\Users\\RYAND\\AppData\\Roaming\\Python\\Python37\\site-packages\\sklearn\\model_selection\\_search.py:814: DeprecationWarning: The default of the `iid` parameter will change from True to False in version 0.22 and will be removed in 0.24. This will change numeric results when test-set sizes are unequal.\n",
      "  DeprecationWarning)\n"
     ]
    },
    {
     "data": {
      "text/plain": [
       "GridSearchCV(cv=10, error_score='raise-deprecating',\n",
       "             estimator=SVC(C=1.0, cache_size=200, class_weight=None, coef0=0.0,\n",
       "                           decision_function_shape='ovr', degree=3,\n",
       "                           gamma='scale', kernel='rbf', max_iter=-1,\n",
       "                           probability=False, random_state=None, shrinking=True,\n",
       "                           tol=0.001, verbose=False),\n",
       "             iid='warn', n_jobs=None,\n",
       "             param_grid={'C': [1, 50, 100, 1000],\n",
       "                         'kernel': ['linear', 'rbf', 'poly']},\n",
       "             pre_dispatch='2*n_jobs', refit=True, return_train_score=False,\n",
       "             scoring='accuracy', verbose=0)"
      ]
     },
     "execution_count": 33,
     "metadata": {},
     "output_type": "execute_result"
    }
   ],
   "source": [
    "grid_search.fit(X_train, y_train)"
   ]
  },
  {
   "cell_type": "code",
   "execution_count": 34,
   "metadata": {},
   "outputs": [
    {
     "data": {
      "text/plain": [
       "0.92"
      ]
     },
     "execution_count": 34,
     "metadata": {},
     "output_type": "execute_result"
    }
   ],
   "source": [
    "from sklearn import metrics\n",
    "bestModel=grid_search.best_estimator_\n",
    "metrics.accuracy_score(y_test, bestModel.predict(X_test))"
   ]
  },
  {
   "cell_type": "code",
   "execution_count": 35,
   "metadata": {},
   "outputs": [],
   "source": [
    "unknownDigits=np.genfromtxt(\"RecognizeDigits.csv\", delimiter=',')"
   ]
  },
  {
   "cell_type": "code",
   "execution_count": 36,
   "metadata": {},
   "outputs": [
    {
     "data": {
      "text/plain": [
       "array([4., 0., 5.])"
      ]
     },
     "execution_count": 36,
     "metadata": {},
     "output_type": "execute_result"
    }
   ],
   "source": [
    "predictedDigits = bestModel.predict(pca.transform(unknownDigits))\n",
    "predictedDigits"
   ]
  },
  {
   "cell_type": "code",
   "execution_count": 37,
   "metadata": {},
   "outputs": [
    {
     "data": {
      "image/png": "[encoded data removed]",
      "text/plain": [
       "<Figure size 72x72 with 1 Axes>"
      ]
     },
     "metadata": {
      "needs_background": "light"
     },
     "output_type": "display_data"
    }
   ],
   "source": [
    "plt.figure(figsize=(1, 1))\n",
    "plt.imshow(unknownDigits[0,:].reshape(28,28), cmap=plt.cm.gray_r, interpolation='nearest')\n",
    "plt.show()"
   ]
  },
  {
   "cell_type": "code",
   "execution_count": 38,
   "metadata": {},
   "outputs": [
    {
     "data": {
      "image/png": "[encoded data removed]",
      "text/plain": [
       "<Figure size 72x72 with 1 Axes>"
      ]
     },
     "metadata": {
      "needs_background": "light"
     },
     "output_type": "display_data"
    }
   ],
   "source": [
    "plt.figure(figsize=(1, 1))\n",
    "plt.imshow(unknownDigits[1,:].reshape(28,28), cmap=plt.cm.gray_r, interpolation='nearest')\n",
    "plt.show()"
   ]
  },
  {
   "cell_type": "code",
   "execution_count": 39,
   "metadata": {},
   "outputs": [
    {
     "data": {
      "image/png": "[encoded data removed]",
      "text/plain": [
       "<Figure size 72x72 with 1 Axes>"
      ]
     },
     "metadata": {
      "needs_background": "light"
     },
     "output_type": "display_data"
    }
   ],
   "source": [
    "plt.figure(figsize=(1, 1))\n",
    "plt.imshow(unknownDigits[2,:].reshape(28,28), cmap=plt.cm.gray_r, interpolation='nearest')\n",
    "plt.show()"
   ]
  },
  {
   "cell_type": "markdown",
   "metadata": {},
   "source": [
    "<h5>Yes the predictions, match the actual digits"
   ]
  }
 ],
 "metadata": {
  "kernelspec": {
   "display_name": "Python 3",
   "language": "python",
   "name": "python3"
  },
  "language_info": {
   "codemirror_mode": {
    "name": "ipython",
    "version": 3
   },
   "file_extension": ".py",
   "mimetype": "text/x-python",
   "name": "python",
   "nbconvert_exporter": "python",
   "pygments_lexer": "ipython3",
   "version": "3.7.4"
  }
 },
 "nbformat": 4,
 "nbformat_minor": 2
}
