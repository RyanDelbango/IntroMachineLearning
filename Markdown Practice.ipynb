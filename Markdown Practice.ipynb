{
 "cells": [
  {
   "cell_type": "markdown",
   "metadata": {},
   "source": [
    "<h1><center>Machine Learning – Fall 2019 (CPS 593/06)</center></h1>"
   ]
  },
  {
   "cell_type": "markdown",
   "metadata": {},
   "source": [
    "<h3>Time and Location:</h3>"
   ]
  },
  {
   "cell_type": "markdown",
   "metadata": {},
   "source": [
    "<p>Lecture: MR 12.30 – 1.45 PM, SH 259</p>"
   ]
  },
  {
   "cell_type": "markdown",
   "metadata": {},
   "source": [
    "<h3>Pre-requisites:</h3>"
   ]
  },
  {
   "cell_type": "markdown",
   "metadata": {},
   "source": [
    "<p>Permission of Instructor</p>"
   ]
  },
  {
   "cell_type": "markdown",
   "metadata": {},
   "source": [
    "<h3>Instructor</h3>"
   ]
  },
  {
   "cell_type": "markdown",
   "metadata": {},
   "source": [
    "<p>Dr. Chirakkal Easwaran</p>\n",
    "<p>Office Hours: Monday, Thursday 9 – 10.30; Wednesday:11-12; and by appointment.</p>\n",
    "<p>Office: SH255</p>\n",
    "<p>email: easwaran@newpaltz.edu</p>"
   ]
  },
  {
   "cell_type": "markdown",
   "metadata": {},
   "source": [
    "<h3>Course Description</h3>"
   ]
  },
  {
   "cell_type": "markdown",
   "metadata": {},
   "source": [
    "<p>Machine Learning is the discipline that tries to produce meaningful outputs from a computer without explicitly programming an algorithm to follow. For example, email spam classifiers and product recommendation systems are based on Machine Learning. Machine Learning purports to construct models of a phenomena by studying a variety of scenarios, and then use these models to predict an output response to future inputs. In this course we will study the most commonly used Machine Learning techniques, their implementation and applications. We will also learn (at some intuitive level) the mathematical and statistical principles underlying these techniques.</p>"
   ]
  },
  {
   "cell_type": "markdown",
   "metadata": {},
   "source": [
    "<p>The following topics will be covered, not necessarily in this order:</p>"
   ]
  },
  {
   "cell_type": "markdown",
   "metadata": {},
   "source": [
    "<ul>\n",
    "    <li>Supervised and Unsupervised Machine Learning</li>\n",
    "    <li>What is not Machine Learning</li>\n",
    "    <li>Python or R?</li>\n",
    "    <li>Classification problems, classification techniques: Naive Bayes classifier, Support Vector Machines, Decision Trees, Random</li>\n",
    "    <li>Forests, Boosting.</li>\n",
    "    <li>Regression problems – theory and practice. Linear, polynomial, multi-variable and logistic regression</li>\n",
    "    <li>Clustering algorithms</li>\n",
    "    <li>Feature scaling and Feature selection</li>\n",
    "    <li>Training, testing, cross-validation; parameter tuning</li>\n",
    "    <li>Error metrics – accuracy of model predictions</li>\n",
    "    <li>Neural Networks/Deep Learning (time permitting)</li>\n",
    "    <li>Visual recognition, voice recognition (time permitting)</li>\n",
    "</ul>"
   ]
  },
  {
   "cell_type": "markdown",
   "metadata": {},
   "source": [
    "<h3>Student Learning Outcome</h3>"
   ]
  },
  {
   "cell_type": "markdown",
   "metadata": {},
   "source": [
    "<p>Students will be able to:</p>"
   ]
  },
  {
   "cell_type": "markdown",
   "metadata": {},
   "source": [
    "<ol>\n",
    "    <li>recognize situations that lend themselves to machine learning techniques, and</li>\n",
    "    <li>implement and evaluate the most commonly used machine learning techniques.</li>\n",
    "</ol>"
   ]
  },
  {
   "cell_type": "markdown",
   "metadata": {},
   "source": [
    "<h3>Text Book</h3>"
   ]
  },
  {
   "cell_type": "markdown",
   "metadata": {},
   "source": [
    "<p>None. I will provide notes as necessary and post links to additional reading materials.</p>"
   ]
  },
  {
   "cell_type": "code",
   "execution_count": null,
   "metadata": {},
   "outputs": [],
   "source": []
  }
 ],
 "metadata": {
  "kernelspec": {
   "display_name": "Python 3",
   "language": "python",
   "name": "python3"
  },
  "language_info": {
   "codemirror_mode": {
    "name": "ipython",
    "version": 3
   },
   "file_extension": ".py",
   "mimetype": "text/x-python",
   "name": "python",
   "nbconvert_exporter": "python",
   "pygments_lexer": "ipython3",
   "version": "3.7.4"
  }
 },
 "nbformat": 4,
 "nbformat_minor": 2
}
